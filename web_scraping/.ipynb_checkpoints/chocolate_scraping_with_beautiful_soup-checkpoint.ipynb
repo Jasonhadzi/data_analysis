{
 "cells": [
  {
   "cell_type": "code",
   "execution_count": 1,
   "metadata": {},
   "outputs": [],
   "source": [
    "from bs4 import BeautifulSoup\n",
    "import requests\n",
    "import pandas as pd\n",
    "import matplotlib.pyplot as plt\n",
    "import numpy as np"
   ]
  },
  {
   "cell_type": "code",
   "execution_count": 2,
   "metadata": {},
   "outputs": [],
   "source": [
    "#make request to get the raw HTML\n",
    "webpage = requests.get(\"https://content.codecademy.com/courses/beautifulsoup/cacao/index.html\")\n",
    "\n",
    "#create BeautifulSoup object to traverse this HTML\n",
    "\n",
    "soup = BeautifulSoup(webpage.content, \"html.parser\")"
   ]
  },
  {
   "cell_type": "code",
   "execution_count": 4,
   "metadata": {},
   "outputs": [
    {
     "name": "stdout",
     "output_type": "stream",
     "text": [
      "3.75\n"
     ]
    }
   ],
   "source": [
    "#get all of the Ratings\n",
    "ratings = []\n",
    "ratings_from_web = soup.find_all(attrs={\"class\": \"Rating\"})\n",
    "\n",
    "\n",
    "#We start our loop at element 1 of the list instead. The first element is the header string 'Ratings'\n",
    "for rating in ratings_from_web[1:]:\n",
    "    ratings.append(float(rating.get_text()))\n",
    "\n",
    "print(ratings[0])"
   ]
  },
  {
   "cell_type": "code",
   "execution_count": 6,
   "metadata": {},
   "outputs": [
    {
     "name": "stdout",
     "output_type": "stream",
     "text": [
      "2\n"
     ]
    },
    {
     "data": {
      "image/png": "[encoded data removed]",
      "text/plain": [
       "<Figure size 432x288 with 1 Axes>"
      ]
     },
     "metadata": {
      "needs_background": "light"
     },
     "output_type": "display_data"
    }
   ],
   "source": [
    "plt.hist(ratings)\n",
    "\n",
    "#How many chocolates have a score of perfect 5?\n",
    "print(ratings.count(5))\n",
    "\n",
    "plt.show()"
   ]
  },
  {
   "cell_type": "code",
   "execution_count": 7,
   "metadata": {},
   "outputs": [
    {
     "name": "stdout",
     "output_type": "stream",
     "text": [
      "A. Morin\n"
     ]
    }
   ],
   "source": [
    "#Which chocolatier makes the best chocolate?\n",
    "companies_from_web = soup.select(\".Company\")\n",
    "company_names = []\n",
    "\n",
    "#We start our loop at element 1 of the list instead. The first element is the header string 'Company (Maker-if known)'\n",
    "for company in companies_from_web[1:]:\n",
    "    company_names.append(company.get_text())\n",
    "\n",
    "print(company_names[0])"
   ]
  },
  {
   "cell_type": "code",
   "execution_count": 10,
   "metadata": {},
   "outputs": [
    {
     "name": "stdout",
     "output_type": "stream",
     "text": [
      "Company\n",
      "Tobago Estate (Pralus)                  4.000000\n",
      "Heirloom Cacao Preservation (Zokoko)    3.875000\n",
      "Ocelot                                  3.875000\n",
      "Amedei                                  3.846154\n",
      "Matale                                  3.812500\n",
      "Patric                                  3.791667\n",
      "Idilio (Felchlin)                       3.775000\n",
      "Acalli                                  3.750000\n",
      "Chocola'te                              3.750000\n",
      "Christopher Morel (Felchlin)            3.750000\n",
      "Name: Rating, dtype: float64\n"
     ]
    }
   ],
   "source": [
    "#create a dataframe tha will have 2 columns, Company and Rating\n",
    "d = {\"Company\": company_names, \"Rating\":ratings}\n",
    "\n",
    "df = pd.DataFrame.from_dict(d)\n",
    "#print(df)\n",
    "#group your DataFrame by Company and take the average of the grouped ratings.\n",
    "mean_values = df.groupby(\"Company\").Rating.mean()\n",
    "#print(mean_values)\n",
    "#get the 10 highest rated chocolate companies. \n",
    "best_ten = mean_values.nlargest(10)\n",
    "\n",
    "print(best_ten)"
   ]
  },
  {
   "cell_type": "code",
   "execution_count": 12,
   "metadata": {},
   "outputs": [
    {
     "name": "stdout",
     "output_type": "stream",
     "text": [
      "63.0\n",
      "    Company  Rating  CocoaPercentage\n",
      "0  A. Morin    3.75             63.0\n",
      "1  A. Morin    2.75             70.0\n",
      "2  A. Morin    3.00             70.0\n",
      "3  A. Morin    3.50             70.0\n",
      "4  A. Morin    3.50             70.0\n"
     ]
    }
   ],
   "source": [
    "#Is more cacao better?\n",
    "cocoa_percent_from_web = soup.select(\".CocoaPercent\")\n",
    "cocoa_percent = []\n",
    "\n",
    "#We start our loop at element 1 of the list instead. The first element is the header string 'Company (Maker-if known)'\n",
    "for cocoa in cocoa_percent_from_web[1:]:\n",
    "    percent = float(cocoa.get_text().strip('%'))\n",
    "    cocoa_percent.append(percent)\n",
    "\n",
    "print(cocoa_percent[0])\n",
    "\n",
    "#Add the cocoa percentages as a column in the DataFrame\n",
    "\n",
    "df[\"CocoaPercentage\"] = cocoa_percent\n",
    "print(df.head())"
   ]
  },
  {
   "cell_type": "code",
   "execution_count": 19,
   "metadata": {},
   "outputs": [
    {
     "data": {
      "image/png": "[encoded data removed]",
      "text/plain": [
       "<Figure size 432x288 with 1 Axes>"
      ]
     },
     "metadata": {
      "needs_background": "light"
     },
     "output_type": "display_data"
    }
   ],
   "source": [
    "#Make a scatterplot of ratings vs percentage of cocoa \n",
    "#We can use some numpy commands to draw a line of best-fit over the scatterplot.\n",
    "plt.scatter(df.CocoaPercentage, df.Rating)\n",
    "z = np.polyfit(df.CocoaPercentage, df.Rating, 1)\n",
    "line_function = np.poly1d(z)\n",
    "plt.plot(df.CocoaPercentage, line_function(df.CocoaPercentage), \"r--\")\n",
    "plt.show()"
   ]
  },
  {
   "cell_type": "code",
   "execution_count": null,
   "metadata": {},
   "outputs": [],
   "source": []
  },
  {
   "cell_type": "code",
   "execution_count": null,
   "metadata": {},
   "outputs": [],
   "source": []
  }
 ],
 "metadata": {
  "kernelspec": {
   "display_name": "Python 3",
   "language": "python",
   "name": "python3"
  },
  "language_info": {
   "codemirror_mode": {
    "name": "ipython",
    "version": 3
   },
   "file_extension": ".py",
   "mimetype": "text/x-python",
   "name": "python",
   "nbconvert_exporter": "python",
   "pygments_lexer": "ipython3",
   "version": "3.7.6"
  }
 },
 "nbformat": 4,
 "nbformat_minor": 4
}
