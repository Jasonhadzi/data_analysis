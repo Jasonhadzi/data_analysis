{
 "cells": [
  {
   "cell_type": "code",
   "execution_count": 26,
   "metadata": {},
   "outputs": [],
   "source": [
    "# Import the SQLite3 module\n",
    "import sqlite3\n",
    "import pandas as pd"
   ]
  },
  {
   "cell_type": "code",
   "execution_count": 27,
   "metadata": {},
   "outputs": [],
   "source": [
    "# Create connection to database\n",
    "conn = sqlite3.connect(\"first.db\")"
   ]
  },
  {
   "cell_type": "code",
   "execution_count": 28,
   "metadata": {},
   "outputs": [],
   "source": [
    "# Create cursor object\n",
    "cursor = conn.cursor()\n"
   ]
  },
  {
   "cell_type": "code",
   "execution_count": 59,
   "metadata": {},
   "outputs": [],
   "source": [
    "# Create students table\n",
    "cursor.execute('''CREATE TABLE students (\n",
    "                    id INTEGER PRIMARY KEY,\n",
    "                    name TEXT NOT NULL,\n",
    "                    email TEXT NOT NULL UNIQUE,\n",
    "                    major_code INTEGER,\n",
    "                    grad_date datetime,\n",
    "                    grade REAL NOT NULL)''')"
   ]
  },
  {
   "cell_type": "code",
   "execution_count": 30,
   "metadata": {},
   "outputs": [],
   "source": [
    "# Insert multiple values into table at once\n",
    "students = [(102, 'Joe', 'joseph@codeu.com', 32, '2022-05-16', 'Pass'),\n",
    "            (103, 'Stacy', 'stacy@codeu.com', 10, '2022-05-16', 'Pass'),\n",
    "            (104, 'Angela', 'angela@codeu.com', 21, '2022-12-20', 'Pass'),\n",
    "            (105, 'Mark', 'mark@codeu.com', 21, '2022-12-20', 'Fail'),\n",
    "            (106, 'Nathan', 'nathaniel@codeu.com', 21, '2022-12-20', 'Pass')\n",
    "            ]\n",
    " \n",
    "# Insert values into the students table\n",
    "cursor.executemany('''INSERT INTO students VALUES (?,?,?,?,?,?)''', students)\n",
    " \n",
    "# Commit changes to database\n",
    "conn.commit()"
   ]
  },
  {
   "cell_type": "code",
   "execution_count": 31,
   "metadata": {},
   "outputs": [
    {
     "name": "stdout",
     "output_type": "stream",
     "text": [
      "(102, 'Joe', 'joseph@codeu.com', 32, '2022-05-16', 'Pass')\n",
      "(103, 'Stacy', 'stacy@codeu.com', 10, '2022-05-16', 'Pass')\n",
      "(104, 'Angela', 'angela@codeu.com', 21, '2022-12-20', 'Pass')\n",
      "(105, 'Mark', 'mark@codeu.com', 21, '2022-12-20', 'Fail')\n",
      "(106, 'Nathan', 'nathaniel@codeu.com', 21, '2022-12-20', 'Pass')\n"
     ]
    }
   ],
   "source": [
    "# Iterate through all rows in students table\n",
    "for row in cursor.execute(\"SELECT * FROM students\"):\n",
    "    print(row)"
   ]
  },
  {
   "cell_type": "code",
   "execution_count": 32,
   "metadata": {},
   "outputs": [
    {
     "data": {
      "text/plain": [
       "(102, 'Joe', 'joseph@codeu.com', 32, '2022-05-16', 'Pass')"
      ]
     },
     "execution_count": 32,
     "metadata": {},
     "output_type": "execute_result"
    }
   ],
   "source": [
    "# Return first row in students\n",
    "cursor.execute(\"SELECT * FROM students\").fetchone()"
   ]
  },
  {
   "cell_type": "code",
   "execution_count": 33,
   "metadata": {},
   "outputs": [
    {
     "data": {
      "text/plain": [
       "[(102, 'Joe', 'joseph@codeu.com', 32, '2022-05-16', 'Pass'),\n",
       " (103, 'Stacy', 'stacy@codeu.com', 10, '2022-05-16', 'Pass'),\n",
       " (104, 'Angela', 'angela@codeu.com', 21, '2022-12-20', 'Pass')]"
      ]
     },
     "execution_count": 33,
     "metadata": {},
     "output_type": "execute_result"
    }
   ],
   "source": [
    "# Return first three rows in students\n",
    "cursor.execute(\"SELECT * FROM students\").fetchmany(3)"
   ]
  },
  {
   "cell_type": "code",
   "execution_count": 34,
   "metadata": {},
   "outputs": [
    {
     "data": {
      "text/plain": [
       "[(102, 'Joe', 'joseph@codeu.com', 32, '2022-05-16', 'Pass'),\n",
       " (103, 'Stacy', 'stacy@codeu.com', 10, '2022-05-16', 'Pass'),\n",
       " (104, 'Angela', 'angela@codeu.com', 21, '2022-12-20', 'Pass'),\n",
       " (105, 'Mark', 'mark@codeu.com', 21, '2022-12-20', 'Fail'),\n",
       " (106, 'Nathan', 'nathaniel@codeu.com', 21, '2022-12-20', 'Pass')]"
      ]
     },
     "execution_count": 34,
     "metadata": {},
     "output_type": "execute_result"
    }
   ],
   "source": [
    "# Return all rows in students\n",
    "cursor.execute(\"SELECT * FROM students\").fetchall()"
   ]
  },
  {
   "cell_type": "code",
   "execution_count": 35,
   "metadata": {},
   "outputs": [
    {
     "data": {
      "text/plain": [
       "(4,)"
      ]
     },
     "execution_count": 35,
     "metadata": {},
     "output_type": "execute_result"
    }
   ],
   "source": [
    "# Return the number of rows with a passing grade\n",
    "cursor.execute(\"\"\"SELECT COUNT(*) FROM students WHERE Grade = 'Pass';\"\"\").fetchone()"
   ]
  },
  {
   "cell_type": "code",
   "execution_count": 36,
   "metadata": {},
   "outputs": [
    {
     "name": "stdout",
     "output_type": "stream",
     "text": [
      "21.0\n"
     ]
    }
   ],
   "source": [
    "# Create a list of tuples of the major codes\n",
    "major_codes = cursor.execute(\"SELECT major_code FROM students;\").fetchall()\n",
    " \n",
    "# Obtain the average of the tuple list by using for loops\n",
    "sum = 0\n",
    "for num in major_codes: \n",
    "    #print(num)\n",
    "    #prints: (32,)\n",
    "    for i in num: \n",
    "        #prints: 32\n",
    "        #print(i)\n",
    "        sum = sum + i \n",
    "average = sum / len(major_codes)\n",
    " \n",
    "# Show average\n",
    "print(average)"
   ]
  },
  {
   "cell_type": "code",
   "execution_count": 46,
   "metadata": {},
   "outputs": [
    {
     "name": "stdout",
     "output_type": "stream",
     "text": [
      "    id    name                email  major_code   grad_date grade\n",
      "0  104  Angela     angela@codeu.com          21  2022-12-20  Pass\n",
      "1  105    Mark       mark@codeu.com          21  2022-12-20  Fail\n",
      "2  106  Nathan  nathaniel@codeu.com          21  2022-12-20  Pass\n"
     ]
    }
   ],
   "source": [
    "# Create a new dataframe from the result set\n",
    "df = pd.read_sql_query('''SELECT * from students WHERE major_code = 21;''', conn)\n",
    " \n",
    "# Show new dataframe\n",
    "print(df)"
   ]
  },
  {
   "cell_type": "code",
   "execution_count": 47,
   "metadata": {},
   "outputs": [
    {
     "data": {
      "text/plain": [
       "21.0"
      ]
     },
     "execution_count": 47,
     "metadata": {},
     "output_type": "execute_result"
    }
   ],
   "source": [
    "# Return the average of major code\n",
    "df['major_code'].mean()"
   ]
  },
  {
   "cell_type": "code",
   "execution_count": 48,
   "metadata": {},
   "outputs": [
    {
     "name": "stdout",
     "output_type": "stream",
     "text": [
      "     PassengerId  Survived  Pclass  \\\n",
      "0              1         0       3   \n",
      "1              2         1       1   \n",
      "2              3         1       3   \n",
      "3              4         1       1   \n",
      "4              5         0       3   \n",
      "..           ...       ...     ...   \n",
      "886          887         0       2   \n",
      "887          888         1       1   \n",
      "888          889         0       3   \n",
      "889          890         1       1   \n",
      "890          891         0       3   \n",
      "\n",
      "                                                  Name     Sex   Age  SibSp  \\\n",
      "0                              Braund, Mr. Owen Harris    male  22.0      1   \n",
      "1    Cumings, Mrs. John Bradley (Florence Briggs Th...  female  38.0      1   \n",
      "2                               Heikkinen, Miss. Laina  female  26.0      0   \n",
      "3         Futrelle, Mrs. Jacques Heath (Lily May Peel)  female  35.0      1   \n",
      "4                             Allen, Mr. William Henry    male  35.0      0   \n",
      "..                                                 ...     ...   ...    ...   \n",
      "886                              Montvila, Rev. Juozas    male  27.0      0   \n",
      "887                       Graham, Miss. Margaret Edith  female  19.0      0   \n",
      "888           Johnston, Miss. Catherine Helen \"Carrie\"  female   NaN      1   \n",
      "889                              Behr, Mr. Karl Howell    male  26.0      0   \n",
      "890                                Dooley, Mr. Patrick    male  32.0      0   \n",
      "\n",
      "     Parch            Ticket     Fare Cabin Embarked  \n",
      "0        0         A/5 21171   7.2500   NaN        S  \n",
      "1        0          PC 17599  71.2833   C85        C  \n",
      "2        0  STON/O2. 3101282   7.9250   NaN        S  \n",
      "3        0            113803  53.1000  C123        S  \n",
      "4        0            373450   8.0500   NaN        S  \n",
      "..     ...               ...      ...   ...      ...  \n",
      "886      0            211536  13.0000   NaN        S  \n",
      "887      0            112053  30.0000   B42        S  \n",
      "888      2        W./C. 6607  23.4500   NaN        S  \n",
      "889      0            111369  30.0000  C148        C  \n",
      "890      0            370376   7.7500   NaN        Q  \n",
      "\n",
      "[891 rows x 12 columns]\n"
     ]
    }
   ],
   "source": [
    "# Use read_csv to read in data as a pandas dataframe\n",
    "df = pd.read_csv(\"https://raw.githubusercontent.com/datasciencedojo/datasets/master/titanic.csv\")\n",
    " \n",
    "# Show DataFrame\n",
    "print(df)"
   ]
  },
  {
   "cell_type": "code",
   "execution_count": 49,
   "metadata": {},
   "outputs": [],
   "source": [
    " # Instantiate a connection\n",
    "connection = sqlite3.connect(\"titanic.db\")\n",
    " \n",
    "# Instantiate a cursor\n",
    "cursor = connection.cursor()\n",
    " \n",
    "# Create a table\n",
    "df.to_sql(\"titanic\", connection)"
   ]
  },
  {
   "cell_type": "code",
   "execution_count": 50,
   "metadata": {},
   "outputs": [
    {
     "name": "stdout",
     "output_type": "stream",
     "text": [
      "[(0, 1, 0, 3, 'Braund, Mr. Owen Harris', 'male', 22.0, 1, 0, 'A/5 21171', 7.25, None, 'S'), (1, 2, 1, 1, 'Cumings, Mrs. John Bradley (Florence Briggs Thayer)', 'female', 38.0, 1, 0, 'PC 17599', 71.2833, 'C85', 'C'), (2, 3, 1, 3, 'Heikkinen, Miss. Laina', 'female', 26.0, 0, 0, 'STON/O2. 3101282', 7.925, None, 'S'), (3, 4, 1, 1, 'Futrelle, Mrs. Jacques Heath (Lily May Peel)', 'female', 35.0, 1, 0, '113803', 53.1, 'C123', 'S'), (4, 5, 0, 3, 'Allen, Mr. William Henry', 'male', 35.0, 0, 0, '373450', 8.05, None, 'S')]\n"
     ]
    }
   ],
   "source": [
    "# Return the first 5 rows of the titanic table as a variable named first_five.\n",
    "first_five = cursor.execute(\"SELECT * FROM titanic\").fetchmany(5)\n",
    "print(first_five)"
   ]
  },
  {
   "cell_type": "code",
   "execution_count": 52,
   "metadata": {},
   "outputs": [
    {
     "name": "stdout",
     "output_type": "stream",
     "text": [
      "[(177, 178, 0, 1, 'Isham, Miss. Ann Elizabeth', 'female', 50.0, 0, 0, 'PC 17595', 28.7125, 'C49', 'C'), (259, 260, 1, 2, 'Parrish, Mrs. (Lutie Davis)', 'female', 50.0, 0, 1, '230433', 26.0, None, 'S'), (299, 300, 1, 1, 'Baxter, Mrs. James (Helene DeLaudeniere Chaput)', 'female', 50.0, 0, 1, 'PC 17558', 247.5208, 'B58 B60', 'C'), (434, 435, 0, 1, 'Silvey, Mr. William Baird', 'male', 50.0, 1, 0, '13507', 55.9, 'E44', 'S'), (458, 459, 1, 2, 'Toomey, Miss. Ellen', 'female', 50.0, 0, 0, 'F.C.C. 13531', 10.5, None, 'S'), (482, 483, 0, 3, 'Rouse, Mr. Richard Henry', 'male', 50.0, 0, 0, 'A/5 3594', 8.05, None, 'S'), (526, 527, 1, 2, 'Ridsdale, Miss. Lucy', 'female', 50.0, 0, 0, 'W./C. 14258', 10.5, None, 'S'), (544, 545, 0, 1, 'Douglas, Mr. Walter Donald', 'male', 50.0, 1, 0, 'PC 17761', 106.425, 'C86', 'C'), (660, 661, 1, 1, 'Frauenthal, Dr. Henry William', 'male', 50.0, 2, 0, 'PC 17611', 133.65, None, 'S'), (723, 724, 0, 2, 'Hodges, Mr. Henry Price', 'male', 50.0, 0, 0, '250643', 13.0, None, 'S')]\n"
     ]
    }
   ],
   "source": [
    "# Return the passengers that were 50.0 years old as a variable named fifties.\n",
    "\n",
    "fifties = cursor.execute(\"SELECT * FROM titanic WHERE age = 50\").fetchall()\n",
    "print(fifties)\n",
    "\n"
   ]
  },
  {
   "cell_type": "code",
   "execution_count": 56,
   "metadata": {},
   "outputs": [
    {
     "name": "stdout",
     "output_type": "stream",
     "text": [
      "[(314,)]\n"
     ]
    }
   ],
   "source": [
    "#Return the number of female passengers as a variable named femme.\n",
    "femme = cursor.execute(\"SELECT COUNT(*) FROM titanic WHERE sex = 'female'\").fetchall()\n",
    "print(femme)"
   ]
  },
  {
   "cell_type": "code",
   "execution_count": 58,
   "metadata": {},
   "outputs": [
    {
     "name": "stdout",
     "output_type": "stream",
     "text": [
      "     index  PassengerId  Survived  Pclass  \\\n",
      "0        0            1         0       3   \n",
      "1        1            2         1       1   \n",
      "2        2            3         1       3   \n",
      "3        3            4         1       1   \n",
      "4        4            5         0       3   \n",
      "..     ...          ...       ...     ...   \n",
      "886    886          887         0       2   \n",
      "887    887          888         1       1   \n",
      "888    888          889         0       3   \n",
      "889    889          890         1       1   \n",
      "890    890          891         0       3   \n",
      "\n",
      "                                                  Name     Sex   Age  SibSp  \\\n",
      "0                              Braund, Mr. Owen Harris    male  22.0      1   \n",
      "1    Cumings, Mrs. John Bradley (Florence Briggs Th...  female  38.0      1   \n",
      "2                               Heikkinen, Miss. Laina  female  26.0      0   \n",
      "3         Futrelle, Mrs. Jacques Heath (Lily May Peel)  female  35.0      1   \n",
      "4                             Allen, Mr. William Henry    male  35.0      0   \n",
      "..                                                 ...     ...   ...    ...   \n",
      "886                              Montvila, Rev. Juozas    male  27.0      0   \n",
      "887                       Graham, Miss. Margaret Edith  female  19.0      0   \n",
      "888           Johnston, Miss. Catherine Helen \"Carrie\"  female   NaN      1   \n",
      "889                              Behr, Mr. Karl Howell    male  26.0      0   \n",
      "890                                Dooley, Mr. Patrick    male  32.0      0   \n",
      "\n",
      "     Parch            Ticket     Fare Cabin Embarked  \n",
      "0        0         A/5 21171   7.2500  None        S  \n",
      "1        0          PC 17599  71.2833   C85        C  \n",
      "2        0  STON/O2. 3101282   7.9250  None        S  \n",
      "3        0            113803  53.1000  C123        S  \n",
      "4        0            373450   8.0500  None        S  \n",
      "..     ...               ...      ...   ...      ...  \n",
      "886      0            211536  13.0000  None        S  \n",
      "887      0            112053  30.0000   B42        S  \n",
      "888      2        W./C. 6607  23.4500  None        S  \n",
      "889      0            111369  30.0000  C148        C  \n",
      "890      0            370376   7.7500  None        Q  \n",
      "\n",
      "[891 rows x 13 columns]\n"
     ]
    }
   ],
   "source": [
    "new_df = pd.read_sql_query(\"\"\"SELECT * from titanic; \"\"\",  connection)\n",
    "print(new_df)"
   ]
  },
  {
   "cell_type": "code",
   "execution_count": null,
   "metadata": {},
   "outputs": [],
   "source": []
  }
 ],
 "metadata": {
  "kernelspec": {
   "display_name": "Python 3",
   "language": "python",
   "name": "python3"
  },
  "language_info": {
   "codemirror_mode": {
    "name": "ipython",
    "version": 3
   },
   "file_extension": ".py",
   "mimetype": "text/x-python",
   "name": "python",
   "nbconvert_exporter": "python",
   "pygments_lexer": "ipython3",
   "version": "3.7.6"
  }
 },
 "nbformat": 4,
 "nbformat_minor": 4
}
