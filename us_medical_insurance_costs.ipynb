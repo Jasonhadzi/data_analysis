{
 "cells": [
  {
   "cell_type": "markdown",
   "metadata": {},
   "source": [
    "# U.S. Medical Insurance Costs\n",
    "\n",
    "In this project, a **CSV** file with medical insurance costs will be investigated using Python Pandas. The goal with this project will be to analyze various attributes within **insurance.csv** to learn more about the patient information in the file and gain insight into potential use cases for the dataset."
   ]
  },
  {
   "cell_type": "code",
   "execution_count": 1,
   "metadata": {},
   "outputs": [],
   "source": [
    "import pandas as pd"
   ]
  },
  {
   "cell_type": "code",
   "execution_count": 2,
   "metadata": {},
   "outputs": [],
   "source": [
    "#load the dataset\n",
    "insurance_csv = pd.read_csv('insurance.csv')"
   ]
  },
  {
   "cell_type": "code",
   "execution_count": 3,
   "metadata": {},
   "outputs": [
    {
     "name": "stdout",
     "output_type": "stream",
     "text": [
      "   age     sex     bmi  children smoker     region      charges\n",
      "0   19  female  27.900         0    yes  southwest  16884.92400\n",
      "1   18    male  33.770         1     no  southeast   1725.55230\n",
      "2   28    male  33.000         3     no  southeast   4449.46200\n",
      "3   33    male  22.705         0     no  northwest  21984.47061\n",
      "4   32    male  28.880         0     no  northwest   3866.85520\n"
     ]
    }
   ],
   "source": [
    "print(insurance_csv.head())"
   ]
  },
  {
   "cell_type": "code",
   "execution_count": 4,
   "metadata": {},
   "outputs": [
    {
     "name": "stdout",
     "output_type": "stream",
     "text": [
      "1338\n",
      "age         0\n",
      "sex         0\n",
      "bmi         0\n",
      "children    0\n",
      "smoker      0\n",
      "region      0\n",
      "charges     0\n",
      "dtype: int64\n"
     ]
    }
   ],
   "source": [
    "print(len(insurance_csv))\n",
    "\n",
    "#see if there are any missing values in the data set\n",
    "print(insurance_csv.isna().sum())"
   ]
  },
  {
   "cell_type": "markdown",
   "metadata": {},
   "source": [
    "### Project Goals\n",
    "\n",
    "* Analyze where a majority of the individuals are from \n",
    "* Look at the different costs between smokers vs. non-smokers\n",
    "* Does sex (male,female) matter in charges"
   ]
  },
  {
   "cell_type": "code",
   "execution_count": 5,
   "metadata": {},
   "outputs": [],
   "source": [
    "#get data\n",
    "age = insurance_csv.age\n",
    "sex = insurance_csv.sex\n",
    "bmi = insurance_csv.bmi\n",
    "children = insurance_csv.children\n",
    "smoker = insurance_csv.smoker\n",
    "region = insurance_csv.region\n",
    "charges = insurance_csv.charges"
   ]
  },
  {
   "cell_type": "code",
   "execution_count": 6,
   "metadata": {},
   "outputs": [
    {
     "data": {
      "text/plain": [
       "southeast    364\n",
       "northwest    325\n",
       "southwest    325\n",
       "northeast    324\n",
       "Name: region, dtype: int64"
      ]
     },
     "execution_count": 6,
     "metadata": {},
     "output_type": "execute_result"
    }
   ],
   "source": [
    "#Get the majority of individuals\n",
    "region.value_counts()"
   ]
  },
  {
   "cell_type": "code",
   "execution_count": 7,
   "metadata": {},
   "outputs": [
    {
     "name": "stdout",
     "output_type": "stream",
     "text": [
      "smoker\n",
      "no      8434.268298\n",
      "yes    32050.231832\n",
      "Name: charges, dtype: float64\n",
      "\n",
      "The smokers pay: 280.00% more than the non smokers\n"
     ]
    }
   ],
   "source": [
    "#Look at the different costs between smokers vs. non-smokers\n",
    "smoker_charges = insurance_csv.groupby('smoker')['charges'].mean()\n",
    "print(smoker_charges)\n",
    "percentage = (smoker_charges[1]-smoker_charges[0])/smoker_charges[0]*100 \n",
    "\n",
    "print('')\n",
    "print('The smokers pay: ' +\"{:.2f}\".format(percentage) +'% more than the non smokers')"
   ]
  },
  {
   "cell_type": "code",
   "execution_count": 8,
   "metadata": {},
   "outputs": [
    {
     "name": "stdout",
     "output_type": "stream",
     "text": [
      "              age        bmi  children       charges\n",
      "sex                                                 \n",
      "female  39.503021  30.377749  1.074018  12569.578844\n",
      "male    38.917160  30.943129  1.115385  13956.751178\n",
      "\n",
      "The men pay: 11.04% more than the female\n"
     ]
    }
   ],
   "source": [
    "#Does sex (male,female) matter in charges\n",
    "sex_charges = insurance_csv.groupby('sex').mean()\n",
    "print(sex_charges)\n",
    "percentage_2 = (sex_charges['charges'][1]-sex_charges['charges'][0])/sex_charges['charges'][0]*100 \n",
    "\n",
    "print('')\n",
    "print('The men pay: ' +\"{:.2f}\".format(percentage_2) +'% more than the female')"
   ]
  },
  {
   "cell_type": "code",
   "execution_count": null,
   "metadata": {},
   "outputs": [],
   "source": []
  }
 ],
 "metadata": {
  "kernelspec": {
   "display_name": "Python 3",
   "language": "python",
   "name": "python3"
  },
  "language_info": {
   "codemirror_mode": {
    "name": "ipython",
    "version": 3
   },
   "file_extension": ".py",
   "mimetype": "text/x-python",
   "name": "python",
   "nbconvert_exporter": "python",
   "pygments_lexer": "ipython3",
   "version": "3.7.6"
  }
 },
 "nbformat": 4,
 "nbformat_minor": 4
}
